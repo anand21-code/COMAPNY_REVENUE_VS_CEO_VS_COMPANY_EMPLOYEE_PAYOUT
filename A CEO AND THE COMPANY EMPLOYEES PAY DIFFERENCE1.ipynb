{
 "cells": [
  {
   "cell_type": "markdown",
   "id": "547854e0",
   "metadata": {},
   "source": [
    "# TITLE: <span style = \"color: brown;\">A CEO AND THE COMPANY EMPLOYEES PAY DIFFERENCE</span>"
   ]
  },
  {
   "cell_type": "markdown",
   "id": "f975c0c8",
   "metadata": {},
   "source": [
    "## <span style = \"color: blue\">Objective:</span>\n",
    "   1) **What is the average pay of a CEO?**\n",
    "   2) **What is the average pay of an Employee?**\n",
    "   3) **What is the average revenue of a Company?**\n",
    "   4) **Difference between CEO AND EMPLOYEE pay amount.**\n",
    "   5) **Top 10 Highest paid CEO's**\n",
    "   6) **Last 5 paid CEO's**\n",
    "   7) **Top 10 company by CEO pay**\n",
    "   8) **Revenue of a Company vs CEO Pay**\n",
    "   9) **Will company growth impact on the CEO and the Employee salary. If yes then how much?**\n",
    "   10) **Factors affecting CEO Pay?**"
   ]
  },
  {
   "cell_type": "code",
   "execution_count": 1,
   "id": "bd9d0122",
   "metadata": {},
   "outputs": [],
   "source": [
    "import pandas as pd\n",
    "import numpy as np\n",
    "import matplotlib.pyplot as plt\n",
    "import seaborn as sns\n",
    "import warnings"
   ]
  },
  {
   "cell_type": "code",
   "execution_count": 2,
   "id": "60dd1405",
   "metadata": {},
   "outputs": [],
   "source": [
    "df = pd.read_csv(\"CEO_largestrevenue_highestpaid_2020-21.csv\")"
   ]
  },
  {
   "cell_type": "code",
   "execution_count": 3,
   "id": "24c32d4e",
   "metadata": {
    "scrolled": true
   },
   "outputs": [
    {
     "data": {
      "text/html": [
       "<div>\n",
       "<style scoped>\n",
       "    .dataframe tbody tr th:only-of-type {\n",
       "        vertical-align: middle;\n",
       "    }\n",
       "\n",
       "    .dataframe tbody tr th {\n",
       "        vertical-align: top;\n",
       "    }\n",
       "\n",
       "    .dataframe thead th {\n",
       "        text-align: right;\n",
       "    }\n",
       "</style>\n",
       "<table border=\"1\" class=\"dataframe\">\n",
       "  <thead>\n",
       "    <tr style=\"text-align: right;\">\n",
       "      <th></th>\n",
       "      <th>ceo</th>\n",
       "      <th>company</th>\n",
       "      <th>stockTicker</th>\n",
       "      <th>ceoPay</th>\n",
       "      <th>changePay</th>\n",
       "      <th>revenue</th>\n",
       "      <th>revenueChange</th>\n",
       "      <th>employeePay</th>\n",
       "      <th>payRatio</th>\n",
       "    </tr>\n",
       "  </thead>\n",
       "  <tbody>\n",
       "    <tr>\n",
       "      <th>0</th>\n",
       "      <td>C. Douglas McMillon</td>\n",
       "      <td>Walmart</td>\n",
       "      <td>WMT</td>\n",
       "      <td>21198778</td>\n",
       "      <td>1.0</td>\n",
       "      <td>559151</td>\n",
       "      <td>1.0</td>\n",
       "      <td>20942.0</td>\n",
       "      <td>1012.0</td>\n",
       "    </tr>\n",
       "    <tr>\n",
       "      <th>1</th>\n",
       "      <td>Tim Cook</td>\n",
       "      <td>Apple</td>\n",
       "      <td>AAPL</td>\n",
       "      <td>98734394</td>\n",
       "      <td>569.0</td>\n",
       "      <td>365817</td>\n",
       "      <td>NaN</td>\n",
       "      <td>68234.0</td>\n",
       "      <td>1447.0</td>\n",
       "    </tr>\n",
       "    <tr>\n",
       "      <th>2</th>\n",
       "      <td>Warren E. Buffett</td>\n",
       "      <td>Berkshire Hathaway</td>\n",
       "      <td>BRK.A</td>\n",
       "      <td>373204</td>\n",
       "      <td>-2.0</td>\n",
       "      <td>276094</td>\n",
       "      <td>NaN</td>\n",
       "      <td>62201.0</td>\n",
       "      <td>6.0</td>\n",
       "    </tr>\n",
       "    <tr>\n",
       "      <th>3</th>\n",
       "      <td>David S. Wichmann</td>\n",
       "      <td>UnitedHealth</td>\n",
       "      <td>UNH</td>\n",
       "      <td>17872713</td>\n",
       "      <td>-5.0</td>\n",
       "      <td>257141</td>\n",
       "      <td>-5.0</td>\n",
       "      <td>55696.0</td>\n",
       "      <td>321.0</td>\n",
       "    </tr>\n",
       "    <tr>\n",
       "      <th>4</th>\n",
       "      <td>Steven H. Collis</td>\n",
       "      <td>AmerisourceBergen</td>\n",
       "      <td>ABC</td>\n",
       "      <td>14873815</td>\n",
       "      <td>4.0</td>\n",
       "      <td>213989</td>\n",
       "      <td>NaN</td>\n",
       "      <td>64951.0</td>\n",
       "      <td>229.0</td>\n",
       "    </tr>\n",
       "  </tbody>\n",
       "</table>\n",
       "</div>"
      ],
      "text/plain": [
       "                    ceo             company stockTicker    ceoPay  changePay  \\\n",
       "0   C. Douglas McMillon             Walmart         WMT  21198778        1.0   \n",
       "1              Tim Cook               Apple        AAPL  98734394      569.0   \n",
       "2     Warren E. Buffett  Berkshire Hathaway       BRK.A    373204       -2.0   \n",
       "3     David S. Wichmann        UnitedHealth         UNH  17872713       -5.0   \n",
       "4      Steven H. Collis   AmerisourceBergen         ABC  14873815        4.0   \n",
       "\n",
       "   revenue  revenueChange  employeePay  payRatio  \n",
       "0   559151            1.0      20942.0    1012.0  \n",
       "1   365817            NaN      68234.0    1447.0  \n",
       "2   276094            NaN      62201.0       6.0  \n",
       "3   257141           -5.0      55696.0     321.0  \n",
       "4   213989            NaN      64951.0     229.0  "
      ]
     },
     "execution_count": 3,
     "metadata": {},
     "output_type": "execute_result"
    }
   ],
   "source": [
    "## Let's check the data how it looks like\n",
    "df.head()"
   ]
  },
  {
   "cell_type": "markdown",
   "id": "b7223e68",
   "metadata": {},
   "source": [
    "### So as we can see in the data we have columns like ceo name, company, company revenue, ceo revenue and employeePay and many more..."
   ]
  },
  {
   "cell_type": "code",
   "execution_count": 4,
   "id": "5fbbbf74",
   "metadata": {},
   "outputs": [],
   "source": [
    "## Revenue is in Million"
   ]
  },
  {
   "cell_type": "code",
   "execution_count": 5,
   "id": "b948f5d4",
   "metadata": {
    "scrolled": true
   },
   "outputs": [
    {
     "data": {
      "image/png": "[encoded data removed]",
      "text/plain": [
       "<IPython.core.display.Image object>"
      ]
     },
     "execution_count": 5,
     "metadata": {},
     "output_type": "execute_result"
    }
   ],
   "source": [
    "from IPython.display import Image\n",
    "\n",
    "# Specify the path to your image file\n",
    "image_path = 'COMPANY_SERVICES.png'\n",
    "\n",
    "# Display the image\n",
    "Image(filename=image_path)\n"
   ]
  },
  {
   "cell_type": "markdown",
   "id": "9b07f183",
   "metadata": {},
   "source": [
    "### This kind of services provided by the company mention in the datasets"
   ]
  },
  {
   "cell_type": "markdown",
   "id": "9ab80db9",
   "metadata": {},
   "source": [
    "#### Let's start by checking the size of the dataset "
   ]
  },
  {
   "cell_type": "code",
   "execution_count": 6,
   "id": "78b7aef4",
   "metadata": {},
   "outputs": [
    {
     "data": {
      "text/plain": [
       "(255, 9)"
      ]
     },
     "execution_count": 6,
     "metadata": {},
     "output_type": "execute_result"
    }
   ],
   "source": [
    "df.shape"
   ]
  },
  {
   "cell_type": "code",
   "execution_count": 7,
   "id": "b907cf49",
   "metadata": {},
   "outputs": [],
   "source": [
    "## we have 255 rows and 9 colummns"
   ]
  },
  {
   "cell_type": "code",
   "execution_count": 8,
   "id": "be03d76c",
   "metadata": {},
   "outputs": [
    {
     "data": {
      "text/plain": [
       "ceo               0\n",
       "company           0\n",
       "stockTicker       0\n",
       "ceoPay            0\n",
       "changePay        44\n",
       "revenue           0\n",
       "revenueChange    55\n",
       "employeePay      12\n",
       "payRatio         12\n",
       "dtype: int64"
      ]
     },
     "execution_count": 8,
     "metadata": {},
     "output_type": "execute_result"
    }
   ],
   "source": [
    "# Checking is the null value present in the data or not.\n",
    "df.isnull().sum()"
   ]
  },
  {
   "cell_type": "code",
   "execution_count": 9,
   "id": "583e8dcc",
   "metadata": {},
   "outputs": [],
   "source": [
    "## There are few column which include few null values"
   ]
  },
  {
   "cell_type": "markdown",
   "id": "b06f0735",
   "metadata": {},
   "source": [
    "##### Let's check the percentage of the null values"
   ]
  },
  {
   "cell_type": "code",
   "execution_count": 10,
   "id": "bba31f70",
   "metadata": {},
   "outputs": [],
   "source": [
    "per = df.isnull().sum()/len(df)*100"
   ]
  },
  {
   "cell_type": "code",
   "execution_count": 11,
   "id": "a97f8220",
   "metadata": {},
   "outputs": [
    {
     "data": {
      "text/plain": [
       "ceo               0.000000\n",
       "company           0.000000\n",
       "stockTicker       0.000000\n",
       "ceoPay            0.000000\n",
       "changePay        17.254902\n",
       "revenue           0.000000\n",
       "revenueChange    21.568627\n",
       "employeePay       4.705882\n",
       "payRatio          4.705882\n",
       "dtype: float64"
      ]
     },
     "execution_count": 11,
     "metadata": {},
     "output_type": "execute_result"
    }
   ],
   "source": [
    "per"
   ]
  },
  {
   "cell_type": "code",
   "execution_count": 12,
   "id": "94c71d68",
   "metadata": {},
   "outputs": [],
   "source": [
    "## According to data percentage the data specifically we need form the dataset for analysis has no null value and the \n",
    "## remain that we don't need. Even if we need them will do the imputation before using it."
   ]
  },
  {
   "cell_type": "markdown",
   "id": "d212141c",
   "metadata": {},
   "source": [
    "## 1) What is the average pay of a CEO?"
   ]
  },
  {
   "cell_type": "code",
   "execution_count": 13,
   "id": "2b292e2e",
   "metadata": {},
   "outputs": [],
   "source": [
    "average_pay_ceo = df['ceoPay'].mean()"
   ]
  },
  {
   "cell_type": "code",
   "execution_count": 14,
   "id": "08cbc695",
   "metadata": {},
   "outputs": [
    {
     "data": {
      "text/plain": [
       "32496030.576470587"
      ]
     },
     "execution_count": 14,
     "metadata": {},
     "output_type": "execute_result"
    }
   ],
   "source": [
    "average_pay_ceo"
   ]
  },
  {
   "cell_type": "markdown",
   "id": "6f02373d",
   "metadata": {},
   "source": [
    "### So, the average pay of a CEO is around 32496030.58 (US Dollars $ )"
   ]
  },
  {
   "cell_type": "markdown",
   "id": "f372b285",
   "metadata": {},
   "source": [
    "### In  Indian rupees it is around "
   ]
  },
  {
   "cell_type": "code",
   "execution_count": 15,
   "id": "8c667333",
   "metadata": {},
   "outputs": [],
   "source": [
    "Indian_Rs = 32496030.58 * 83.12"
   ]
  },
  {
   "cell_type": "code",
   "execution_count": 16,
   "id": "eb71509b",
   "metadata": {},
   "outputs": [
    {
     "data": {
      "text/plain": [
       "2701070061.8096"
      ]
     },
     "execution_count": 16,
     "metadata": {},
     "output_type": "execute_result"
    }
   ],
   "source": [
    "Indian_Rs"
   ]
  },
  {
   "cell_type": "code",
   "execution_count": 17,
   "id": "452bc60b",
   "metadata": {},
   "outputs": [],
   "source": [
    "## In Indian Rupees the average pay of an CEO is 2701070061.81"
   ]
  },
  {
   "cell_type": "code",
   "execution_count": 18,
   "id": "a09d838c",
   "metadata": {},
   "outputs": [],
   "source": [
    "## Let visualise it."
   ]
  },
  {
   "cell_type": "code",
   "execution_count": 19,
   "id": "3e8fa83c",
   "metadata": {},
   "outputs": [
    {
     "data": {
      "image/png": "[encoded data removed]",
      "text/plain": [
       "<Figure size 600x400 with 1 Axes>"
      ]
     },
     "metadata": {},
     "output_type": "display_data"
    }
   ],
   "source": [
    "# Create a figure with a specific size\n",
    "plt.figure(figsize=(6, 4))\n",
    "\n",
    "# Create a histogram of CEO salaries without specifying the number of bins\n",
    "plt.hist(df['ceoPay'], alpha=0.75, color='blue', edgecolor='black', label='CEO Salaries')\n",
    "\n",
    "# Calculate the mean salary\n",
    "mean_salary = df['ceoPay'].mean()\n",
    "\n",
    "# Plot a vertical dashed line at the mean salary and label it\n",
    "plt.axvline(mean_salary, color='red', linestyle='dashed', linewidth=2, label=f'Mean Salary: ${mean_salary:.2f}')\n",
    "\n",
    "# Set labels and title\n",
    "plt.xlabel('Salary')\n",
    "plt.ylabel('Frequency')\n",
    "plt.title('CEO Salary Distribution')\n",
    "\n",
    "# Add a legend\n",
    "plt.legend()\n",
    "\n",
    "# Show the plot\n",
    "plt.show()\n"
   ]
  },
  {
   "cell_type": "markdown",
   "id": "a112d5ea",
   "metadata": {},
   "source": [
    "## 2) What is the average pay of an Employee?"
   ]
  },
  {
   "cell_type": "code",
   "execution_count": 20,
   "id": "a28d5769",
   "metadata": {},
   "outputs": [
    {
     "name": "stdout",
     "output_type": "stream",
     "text": [
      "Number of excluded rows: 12\n",
      "Filtered DataFrame:\n"
     ]
    },
    {
     "data": {
      "text/html": [
       "<div>\n",
       "<style scoped>\n",
       "    .dataframe tbody tr th:only-of-type {\n",
       "        vertical-align: middle;\n",
       "    }\n",
       "\n",
       "    .dataframe tbody tr th {\n",
       "        vertical-align: top;\n",
       "    }\n",
       "\n",
       "    .dataframe thead th {\n",
       "        text-align: right;\n",
       "    }\n",
       "</style>\n",
       "<table border=\"1\" class=\"dataframe\">\n",
       "  <thead>\n",
       "    <tr style=\"text-align: right;\">\n",
       "      <th></th>\n",
       "      <th>ceo</th>\n",
       "      <th>company</th>\n",
       "      <th>stockTicker</th>\n",
       "      <th>ceoPay</th>\n",
       "      <th>changePay</th>\n",
       "      <th>revenue</th>\n",
       "      <th>revenueChange</th>\n",
       "      <th>employeePay</th>\n",
       "      <th>payRatio</th>\n",
       "    </tr>\n",
       "  </thead>\n",
       "  <tbody>\n",
       "    <tr>\n",
       "      <th>0</th>\n",
       "      <td>C. Douglas McMillon</td>\n",
       "      <td>Walmart</td>\n",
       "      <td>WMT</td>\n",
       "      <td>21198778</td>\n",
       "      <td>1.0</td>\n",
       "      <td>559151</td>\n",
       "      <td>1.0</td>\n",
       "      <td>20942.0</td>\n",
       "      <td>1012.0</td>\n",
       "    </tr>\n",
       "    <tr>\n",
       "      <th>1</th>\n",
       "      <td>Tim Cook</td>\n",
       "      <td>Apple</td>\n",
       "      <td>AAPL</td>\n",
       "      <td>98734394</td>\n",
       "      <td>569.0</td>\n",
       "      <td>365817</td>\n",
       "      <td>NaN</td>\n",
       "      <td>68234.0</td>\n",
       "      <td>1447.0</td>\n",
       "    </tr>\n",
       "    <tr>\n",
       "      <th>2</th>\n",
       "      <td>Warren E. Buffett</td>\n",
       "      <td>Berkshire Hathaway</td>\n",
       "      <td>BRK.A</td>\n",
       "      <td>373204</td>\n",
       "      <td>-2.0</td>\n",
       "      <td>276094</td>\n",
       "      <td>NaN</td>\n",
       "      <td>62201.0</td>\n",
       "      <td>6.0</td>\n",
       "    </tr>\n",
       "    <tr>\n",
       "      <th>3</th>\n",
       "      <td>David S. Wichmann</td>\n",
       "      <td>UnitedHealth</td>\n",
       "      <td>UNH</td>\n",
       "      <td>17872713</td>\n",
       "      <td>-5.0</td>\n",
       "      <td>257141</td>\n",
       "      <td>-5.0</td>\n",
       "      <td>55696.0</td>\n",
       "      <td>321.0</td>\n",
       "    </tr>\n",
       "    <tr>\n",
       "      <th>4</th>\n",
       "      <td>Steven H. Collis</td>\n",
       "      <td>AmerisourceBergen</td>\n",
       "      <td>ABC</td>\n",
       "      <td>14873815</td>\n",
       "      <td>4.0</td>\n",
       "      <td>213989</td>\n",
       "      <td>NaN</td>\n",
       "      <td>64951.0</td>\n",
       "      <td>229.0</td>\n",
       "    </tr>\n",
       "    <tr>\n",
       "      <th>...</th>\n",
       "      <td>...</td>\n",
       "      <td>...</td>\n",
       "      <td>...</td>\n",
       "      <td>...</td>\n",
       "      <td>...</td>\n",
       "      <td>...</td>\n",
       "      <td>...</td>\n",
       "      <td>...</td>\n",
       "      <td>...</td>\n",
       "    </tr>\n",
       "    <tr>\n",
       "      <th>249</th>\n",
       "      <td>Vladimir Shmunis</td>\n",
       "      <td>RingCentral</td>\n",
       "      <td>RNG</td>\n",
       "      <td>19059431</td>\n",
       "      <td>94.0</td>\n",
       "      <td>1184</td>\n",
       "      <td>94.0</td>\n",
       "      <td>128336.0</td>\n",
       "      <td>149.0</td>\n",
       "    </tr>\n",
       "    <tr>\n",
       "      <th>250</th>\n",
       "      <td>Joe Kiani</td>\n",
       "      <td>Masimo</td>\n",
       "      <td>MASI</td>\n",
       "      <td>15493723</td>\n",
       "      <td>3.0</td>\n",
       "      <td>1144</td>\n",
       "      <td>3.0</td>\n",
       "      <td>102348.0</td>\n",
       "      <td>151.0</td>\n",
       "    </tr>\n",
       "    <tr>\n",
       "      <th>252</th>\n",
       "      <td>Marc Holliday</td>\n",
       "      <td>SL Green Realty</td>\n",
       "      <td>SLG</td>\n",
       "      <td>15194726</td>\n",
       "      <td>-28.0</td>\n",
       "      <td>1053</td>\n",
       "      <td>-28.0</td>\n",
       "      <td>69626.0</td>\n",
       "      <td>218.0</td>\n",
       "    </tr>\n",
       "    <tr>\n",
       "      <th>253</th>\n",
       "      <td>Nathaniel A. Davis</td>\n",
       "      <td>Stride</td>\n",
       "      <td>LRN</td>\n",
       "      <td>15932680</td>\n",
       "      <td>63.0</td>\n",
       "      <td>1041</td>\n",
       "      <td>63.0</td>\n",
       "      <td>51502.0</td>\n",
       "      <td>309.0</td>\n",
       "    </tr>\n",
       "    <tr>\n",
       "      <th>254</th>\n",
       "      <td>Chad Richison</td>\n",
       "      <td>Paycom Software</td>\n",
       "      <td>PAYC</td>\n",
       "      <td>211131206</td>\n",
       "      <td>899.0</td>\n",
       "      <td>841</td>\n",
       "      <td>899.0</td>\n",
       "      <td>71259.0</td>\n",
       "      <td>2963.0</td>\n",
       "    </tr>\n",
       "  </tbody>\n",
       "</table>\n",
       "<p>243 rows × 9 columns</p>\n",
       "</div>"
      ],
      "text/plain": [
       "                      ceo             company stockTicker     ceoPay  \\\n",
       "0     C. Douglas McMillon             Walmart         WMT   21198778   \n",
       "1                Tim Cook               Apple        AAPL   98734394   \n",
       "2       Warren E. Buffett  Berkshire Hathaway       BRK.A     373204   \n",
       "3       David S. Wichmann        UnitedHealth         UNH   17872713   \n",
       "4        Steven H. Collis   AmerisourceBergen         ABC   14873815   \n",
       "..                    ...                 ...         ...        ...   \n",
       "249      Vladimir Shmunis         RingCentral         RNG   19059431   \n",
       "250             Joe Kiani              Masimo        MASI   15493723   \n",
       "252         Marc Holliday     SL Green Realty         SLG   15194726   \n",
       "253    Nathaniel A. Davis              Stride         LRN   15932680   \n",
       "254         Chad Richison     Paycom Software        PAYC  211131206   \n",
       "\n",
       "     changePay  revenue  revenueChange  employeePay  payRatio  \n",
       "0          1.0   559151            1.0      20942.0    1012.0  \n",
       "1        569.0   365817            NaN      68234.0    1447.0  \n",
       "2         -2.0   276094            NaN      62201.0       6.0  \n",
       "3         -5.0   257141           -5.0      55696.0     321.0  \n",
       "4          4.0   213989            NaN      64951.0     229.0  \n",
       "..         ...      ...            ...          ...       ...  \n",
       "249       94.0     1184           94.0     128336.0     149.0  \n",
       "250        3.0     1144            3.0     102348.0     151.0  \n",
       "252      -28.0     1053          -28.0      69626.0     218.0  \n",
       "253       63.0     1041           63.0      51502.0     309.0  \n",
       "254      899.0      841          899.0      71259.0    2963.0  \n",
       "\n",
       "[243 rows x 9 columns]"
      ]
     },
     "execution_count": 20,
     "metadata": {},
     "output_type": "execute_result"
    }
   ],
   "source": [
    "## In this code we are calaculating the average salary on employee of company but not including to those rows how \n",
    "## are having the enmployee pay as null or 0 because it will decrease the average pay.\n",
    "\n",
    "# Filter out rows with null or 0 salaries\n",
    "filtered_df = df[(df['employeePay'].notnull()) & (df['employeePay'] != 0)]\n",
    "\n",
    "# Count the number of remaining rows\n",
    "count_excluded_rows = len(df) - len(filtered_df)\n",
    "\n",
    "# Print the count of excluded rows\n",
    "print(f\"Number of excluded rows: {count_excluded_rows}\")\n",
    "\n",
    "# You can also print or analyze the filtered DataFrame if needed\n",
    "print(\"Filtered DataFrame:\")\n",
    "filtered_df\n"
   ]
  },
  {
   "cell_type": "code",
   "execution_count": 21,
   "id": "a4fcf0e6",
   "metadata": {},
   "outputs": [],
   "source": [
    "average_pay_employee = df['employeePay'].mean()"
   ]
  },
  {
   "cell_type": "code",
   "execution_count": 22,
   "id": "3d74e160",
   "metadata": {},
   "outputs": [
    {
     "data": {
      "text/plain": [
       "87869.98765432098"
      ]
     },
     "execution_count": 22,
     "metadata": {},
     "output_type": "execute_result"
    }
   ],
   "source": [
    "average_pay_employee"
   ]
  },
  {
   "cell_type": "markdown",
   "id": "ea3f15b9",
   "metadata": {},
   "source": [
    "### The average salary of an Employee is around 87869.99 (US Dollar $)"
   ]
  },
  {
   "cell_type": "markdown",
   "id": "1a6bc3c0",
   "metadata": {},
   "source": [
    "### In  Indian rupees it is around "
   ]
  },
  {
   "cell_type": "code",
   "execution_count": 23,
   "id": "99e274c0",
   "metadata": {},
   "outputs": [],
   "source": [
    "Indian_Rs = 87869.99 * 83.12"
   ]
  },
  {
   "cell_type": "code",
   "execution_count": 24,
   "id": "ac7fccac",
   "metadata": {},
   "outputs": [
    {
     "data": {
      "text/plain": [
       "7303753.5688000005"
      ]
     },
     "execution_count": 24,
     "metadata": {},
     "output_type": "execute_result"
    }
   ],
   "source": [
    "Indian_Rs"
   ]
  },
  {
   "cell_type": "code",
   "execution_count": 25,
   "id": "6caee527",
   "metadata": {},
   "outputs": [],
   "source": [
    "## In Indian Rupees the average pay of an CEO is 7303753.57 Rs."
   ]
  },
  {
   "cell_type": "code",
   "execution_count": 26,
   "id": "e1b098ab",
   "metadata": {},
   "outputs": [],
   "source": [
    "## Let visualise it."
   ]
  },
  {
   "cell_type": "code",
   "execution_count": 27,
   "id": "899a0c75",
   "metadata": {},
   "outputs": [
    {
     "data": {
      "image/png": "[encoded data removed]",
      "text/plain": [
       "<Figure size 600x400 with 1 Axes>"
      ]
     },
     "metadata": {},
     "output_type": "display_data"
    }
   ],
   "source": [
    "# Create a figure with a specific size\n",
    "plt.figure(figsize=(6, 4))\n",
    "\n",
    "# Create a histogram of CEO salaries without specifying the number of bins\n",
    "plt.hist(df['employeePay'], alpha=0.75, color='blue', edgecolor='black', label='Employee Salaries')\n",
    "\n",
    "# Calculate the mean salary\n",
    "mean_salary = df['employeePay'].mean()\n",
    "\n",
    "# Plot a vertical dashed line at the mean salary and label it\n",
    "plt.axvline(mean_salary, color='red', linestyle='dashed', linewidth=2, label=f'Mean Salary: ${mean_salary:.2f}')\n",
    "\n",
    "# Set labels and title\n",
    "plt.xlabel('Salary')\n",
    "plt.ylabel('Frequency')\n",
    "plt.title('Employee Salary Distribution')\n",
    "\n",
    "# Add a legend\n",
    "plt.legend()\n",
    "\n",
    "# Show the plot\n",
    "plt.show()\n"
   ]
  },
  {
   "cell_type": "code",
   "execution_count": 28,
   "id": "9d5cf627",
   "metadata": {},
   "outputs": [],
   "source": [
    "# As we can see the average pay of an Employee is around 87869.99 (US Dollars $ )"
   ]
  },
  {
   "cell_type": "markdown",
   "id": "22a09bdf",
   "metadata": {},
   "source": [
    "## 3) What is the average revenue of a Company?"
   ]
  },
  {
   "cell_type": "code",
   "execution_count": 29,
   "id": "0204a115",
   "metadata": {},
   "outputs": [],
   "source": [
    "average_revenue = df['revenue'].mean()"
   ]
  },
  {
   "cell_type": "code",
   "execution_count": 30,
   "id": "f40b4d3d",
   "metadata": {},
   "outputs": [
    {
     "data": {
      "text/plain": [
       "38496.25490196078"
      ]
     },
     "execution_count": 30,
     "metadata": {},
     "output_type": "execute_result"
    }
   ],
   "source": [
    "average_revenue"
   ]
  },
  {
   "cell_type": "markdown",
   "id": "f38bd509",
   "metadata": {},
   "source": [
    "### The average revenue of a Company is around 38496.25 Million (US Dollar $)"
   ]
  },
  {
   "cell_type": "markdown",
   "id": "6366f342",
   "metadata": {},
   "source": [
    "### In  Indian rupees it is around "
   ]
  },
  {
   "cell_type": "code",
   "execution_count": 31,
   "id": "16a84b99",
   "metadata": {},
   "outputs": [],
   "source": [
    "Indian_Rs = 38496.25 * 83.12"
   ]
  },
  {
   "cell_type": "code",
   "execution_count": 32,
   "id": "409baf1f",
   "metadata": {},
   "outputs": [
    {
     "data": {
      "text/plain": [
       "3199808.3000000003"
      ]
     },
     "execution_count": 32,
     "metadata": {},
     "output_type": "execute_result"
    }
   ],
   "source": [
    "Indian_Rs"
   ]
  },
  {
   "cell_type": "code",
   "execution_count": 33,
   "id": "a75276e7",
   "metadata": {},
   "outputs": [],
   "source": [
    "### In Indian rupees the average revenue of the company is 3199808.30"
   ]
  },
  {
   "cell_type": "code",
   "execution_count": 34,
   "id": "e730309c",
   "metadata": {},
   "outputs": [],
   "source": [
    "### Let's visualise it."
   ]
  },
  {
   "cell_type": "code",
   "execution_count": 35,
   "id": "eb9d5b06",
   "metadata": {},
   "outputs": [
    {
     "data": {
      "image/png": "[encoded data removed]",
      "text/plain": [
       "<Figure size 600x400 with 1 Axes>"
      ]
     },
     "metadata": {},
     "output_type": "display_data"
    }
   ],
   "source": [
    "# Create a figure with a specific size\n",
    "plt.figure(figsize=(6, 4))\n",
    "\n",
    "# Create a histogram of CEO salaries without specifying the number of bins\n",
    "plt.hist(df['revenue'], alpha=0.75, color='blue', edgecolor='black', label='Comapny Revenue')\n",
    "\n",
    "# Calculate the mean salary\n",
    "mean_salary = df['revenue'].mean()\n",
    "\n",
    "# Plot a vertical dashed line at the mean salary and label it\n",
    "plt.axvline(mean_salary, color='red', linestyle='dashed', linewidth=2, label=f'Mean Revenue: ${mean_salary:.2f}')\n",
    "\n",
    "# Set labels and title\n",
    "plt.xlabel('Revenue')\n",
    "plt.ylabel('Frequency')\n",
    "plt.title('Company Revenue Distribution')\n",
    "\n",
    "# Add a legend\n",
    "plt.legend()\n",
    "\n",
    "# Show the plot\n",
    "plt.show()\n"
   ]
  },
  {
   "cell_type": "markdown",
   "id": "99e7bedf",
   "metadata": {},
   "source": [
    "## 4) Difference between CEO AND EMPLOYEE pay amount."
   ]
  },
  {
   "cell_type": "code",
   "execution_count": 36,
   "id": "35d3f2d0",
   "metadata": {},
   "outputs": [],
   "source": [
    "### The difference between the CEO and the Employee salary"
   ]
  },
  {
   "cell_type": "code",
   "execution_count": 37,
   "id": "3d251ef6",
   "metadata": {},
   "outputs": [],
   "source": [
    "pay_diff = average_pay_ceo - average_pay_employee"
   ]
  },
  {
   "cell_type": "code",
   "execution_count": 38,
   "id": "4852f1c5",
   "metadata": {},
   "outputs": [
    {
     "data": {
      "text/plain": [
       "32408160.588816267"
      ]
     },
     "execution_count": 38,
     "metadata": {},
     "output_type": "execute_result"
    }
   ],
   "source": [
    "pay_diff"
   ]
  },
  {
   "cell_type": "markdown",
   "id": "3e345494",
   "metadata": {},
   "source": [
    "### The averange difference between ceo and the employee salary is around 32408160.59\n",
    "### The CEO salary is 36,981.94% higher than the EMPLOYEE salary."
   ]
  },
  {
   "cell_type": "markdown",
   "id": "c5e394b0",
   "metadata": {},
   "source": [
    "### In Indian rupee it is around"
   ]
  },
  {
   "cell_type": "code",
   "execution_count": 39,
   "id": "6a2f9a11",
   "metadata": {},
   "outputs": [],
   "source": [
    "Indian_Rs = 32408160.59 * 83.12"
   ]
  },
  {
   "cell_type": "code",
   "execution_count": 40,
   "id": "31b94cdc",
   "metadata": {},
   "outputs": [
    {
     "data": {
      "text/plain": [
       "2693766308.2408"
      ]
     },
     "execution_count": 40,
     "metadata": {},
     "output_type": "execute_result"
    }
   ],
   "source": [
    "Indian_Rs"
   ]
  },
  {
   "cell_type": "code",
   "execution_count": 41,
   "id": "70bcfc7e",
   "metadata": {},
   "outputs": [],
   "source": [
    "### In Indian rupees the difference between the CEO and Employee salary is 3199808.30"
   ]
  },
  {
   "cell_type": "code",
   "execution_count": 42,
   "id": "f345aa2f",
   "metadata": {},
   "outputs": [],
   "source": [
    "### Let's visualise it."
   ]
  },
  {
   "cell_type": "code",
   "execution_count": 43,
   "id": "0bb6fdf6",
   "metadata": {},
   "outputs": [],
   "source": [
    "average_pay_ceo = 32496030.58\n",
    "average_pay_employee = 87869.99"
   ]
  },
  {
   "cell_type": "code",
   "execution_count": 44,
   "id": "e779ed49",
   "metadata": {},
   "outputs": [
    {
     "data": {
      "image/png": "[encoded data removed]",
      "text/plain": [
       "<Figure size 800x600 with 1 Axes>"
      ]
     },
     "metadata": {},
     "output_type": "display_data"
    }
   ],
   "source": [
    "# Create a bar chart\n",
    "categories = ['CEO', 'Employee']\n",
    "salaries = [average_pay_ceo, average_pay_employee]\n",
    "\n",
    "plt.figure(figsize=(8, 6))\n",
    "plt.bar(categories, salaries, color=['blue', 'green'])\n",
    "plt.xlabel('Job Title')\n",
    "plt.ylabel('Salary ($)')\n",
    "plt.title('Average Salary Comparison: CEO vs. Employee')\n",
    "plt.show()"
   ]
  },
  {
   "cell_type": "code",
   "execution_count": 45,
   "id": "3d403f52",
   "metadata": {},
   "outputs": [],
   "source": [
    "### As we can see in the graph the EMPLOYEE salary is more more less than the CEO salary.\n",
    "### The CEO salary is 36,981.94% higher than the EMPLOYEE salary."
   ]
  },
  {
   "cell_type": "markdown",
   "id": "a0dbc766",
   "metadata": {},
   "source": [
    "### Percentage Calculation\n",
    "\n",
    "average_pay_ceo = 32496030.58\n",
    "\n",
    "average_pay_employee = 87869.99\n",
    "\n",
    "pay_diff = 32496030.58 - 87869.99\n",
    "\n",
    "pay_diff = 32408160.59\n",
    "\n",
    "percentage_diff = 32408160.59 / 87869.99 * 100\n",
    "\n",
    "percentage_diff = 36981.94"
   ]
  },
  {
   "cell_type": "markdown",
   "id": "8c73d907",
   "metadata": {},
   "source": [
    "## 5) Top 10 Highest paid CEO's"
   ]
  },
  {
   "cell_type": "code",
   "execution_count": 46,
   "id": "90a960e3",
   "metadata": {},
   "outputs": [],
   "source": [
    "### Checking the top 10 highest paid CEO name"
   ]
  },
  {
   "cell_type": "code",
   "execution_count": 47,
   "id": "98f2d91f",
   "metadata": {},
   "outputs": [],
   "source": [
    "top_10_ceo = df.sort_values(by='ceoPay', ascending=False).head(10)"
   ]
  },
  {
   "cell_type": "code",
   "execution_count": 48,
   "id": "0275533f",
   "metadata": {},
   "outputs": [
    {
     "data": {
      "text/html": [
       "<div>\n",
       "<style scoped>\n",
       "    .dataframe tbody tr th:only-of-type {\n",
       "        vertical-align: middle;\n",
       "    }\n",
       "\n",
       "    .dataframe tbody tr th {\n",
       "        vertical-align: top;\n",
       "    }\n",
       "\n",
       "    .dataframe thead th {\n",
       "        text-align: right;\n",
       "    }\n",
       "</style>\n",
       "<table border=\"1\" class=\"dataframe\">\n",
       "  <thead>\n",
       "    <tr style=\"text-align: right;\">\n",
       "      <th></th>\n",
       "      <th>ceo</th>\n",
       "      <th>company</th>\n",
       "      <th>stockTicker</th>\n",
       "      <th>ceoPay</th>\n",
       "      <th>changePay</th>\n",
       "      <th>revenue</th>\n",
       "      <th>revenueChange</th>\n",
       "      <th>employeePay</th>\n",
       "      <th>payRatio</th>\n",
       "    </tr>\n",
       "  </thead>\n",
       "  <tbody>\n",
       "    <tr>\n",
       "      <th>251</th>\n",
       "      <td>Alexander Karp</td>\n",
       "      <td>Palantir Technologies</td>\n",
       "      <td>PLTR</td>\n",
       "      <td>1098513297</td>\n",
       "      <td>8979.0</td>\n",
       "      <td>1093</td>\n",
       "      <td>8979.0</td>\n",
       "      <td>NaN</td>\n",
       "      <td>NaN</td>\n",
       "    </tr>\n",
       "    <tr>\n",
       "      <th>219</th>\n",
       "      <td>Tony Xu</td>\n",
       "      <td>DoorDash</td>\n",
       "      <td>DASH</td>\n",
       "      <td>413669920</td>\n",
       "      <td>137670.0</td>\n",
       "      <td>2886</td>\n",
       "      <td>137670.0</td>\n",
       "      <td>NaN</td>\n",
       "      <td>NaN</td>\n",
       "    </tr>\n",
       "    <tr>\n",
       "      <th>223</th>\n",
       "      <td>Eric Wu</td>\n",
       "      <td>Opendoor Technologies</td>\n",
       "      <td>OPEN</td>\n",
       "      <td>370240992</td>\n",
       "      <td>134533.0</td>\n",
       "      <td>2583</td>\n",
       "      <td>134533.0</td>\n",
       "      <td>NaN</td>\n",
       "      <td>NaN</td>\n",
       "    </tr>\n",
       "    <tr>\n",
       "      <th>254</th>\n",
       "      <td>Chad Richison</td>\n",
       "      <td>Paycom Software</td>\n",
       "      <td>PAYC</td>\n",
       "      <td>211131206</td>\n",
       "      <td>899.0</td>\n",
       "      <td>841</td>\n",
       "      <td>899.0</td>\n",
       "      <td>71259.0</td>\n",
       "      <td>2963.0</td>\n",
       "    </tr>\n",
       "    <tr>\n",
       "      <th>216</th>\n",
       "      <td>Joseph Levin</td>\n",
       "      <td>IAC/InterActiveCorp</td>\n",
       "      <td>IAC</td>\n",
       "      <td>189503132</td>\n",
       "      <td>1122.0</td>\n",
       "      <td>3048</td>\n",
       "      <td>1122.0</td>\n",
       "      <td>NaN</td>\n",
       "      <td>NaN</td>\n",
       "    </tr>\n",
       "    <tr>\n",
       "      <th>35</th>\n",
       "      <td>Patrick P. Gelsinger</td>\n",
       "      <td>Intel</td>\n",
       "      <td>INTC</td>\n",
       "      <td>177905400</td>\n",
       "      <td>NaN</td>\n",
       "      <td>79024</td>\n",
       "      <td>NaN</td>\n",
       "      <td>103977.0</td>\n",
       "      <td>1711.0</td>\n",
       "    </tr>\n",
       "    <tr>\n",
       "      <th>182</th>\n",
       "      <td>Robert Kotick</td>\n",
       "      <td>Activision Blizzard</td>\n",
       "      <td>ATVI</td>\n",
       "      <td>154613318</td>\n",
       "      <td>413.0</td>\n",
       "      <td>8086</td>\n",
       "      <td>413.0</td>\n",
       "      <td>99100.0</td>\n",
       "      <td>1560.0</td>\n",
       "    </tr>\n",
       "    <tr>\n",
       "      <th>180</th>\n",
       "      <td>Leonard S. Schleifer</td>\n",
       "      <td>Regeneron Pharmaceuticals</td>\n",
       "      <td>REGN</td>\n",
       "      <td>135350121</td>\n",
       "      <td>531.0</td>\n",
       "      <td>8497</td>\n",
       "      <td>531.0</td>\n",
       "      <td>145019.0</td>\n",
       "      <td>933.0</td>\n",
       "    </tr>\n",
       "    <tr>\n",
       "      <th>212</th>\n",
       "      <td>Brian Chesky</td>\n",
       "      <td>Airbnb</td>\n",
       "      <td>ABNB</td>\n",
       "      <td>120099075</td>\n",
       "      <td>28428.0</td>\n",
       "      <td>3378</td>\n",
       "      <td>28428.0</td>\n",
       "      <td>NaN</td>\n",
       "      <td>NaN</td>\n",
       "    </tr>\n",
       "    <tr>\n",
       "      <th>1</th>\n",
       "      <td>Tim Cook</td>\n",
       "      <td>Apple</td>\n",
       "      <td>AAPL</td>\n",
       "      <td>98734394</td>\n",
       "      <td>569.0</td>\n",
       "      <td>365817</td>\n",
       "      <td>NaN</td>\n",
       "      <td>68234.0</td>\n",
       "      <td>1447.0</td>\n",
       "    </tr>\n",
       "  </tbody>\n",
       "</table>\n",
       "</div>"
      ],
      "text/plain": [
       "                       ceo                    company stockTicker      ceoPay  \\\n",
       "251         Alexander Karp      Palantir Technologies        PLTR  1098513297   \n",
       "219                Tony Xu                   DoorDash        DASH   413669920   \n",
       "223                Eric Wu      Opendoor Technologies        OPEN   370240992   \n",
       "254          Chad Richison            Paycom Software        PAYC   211131206   \n",
       "216           Joseph Levin        IAC/InterActiveCorp         IAC   189503132   \n",
       "35    Patrick P. Gelsinger                      Intel        INTC   177905400   \n",
       "182          Robert Kotick        Activision Blizzard        ATVI   154613318   \n",
       "180   Leonard S. Schleifer  Regeneron Pharmaceuticals        REGN   135350121   \n",
       "212           Brian Chesky                     Airbnb        ABNB   120099075   \n",
       "1                 Tim Cook                      Apple        AAPL    98734394   \n",
       "\n",
       "     changePay  revenue  revenueChange  employeePay  payRatio  \n",
       "251     8979.0     1093         8979.0          NaN       NaN  \n",
       "219   137670.0     2886       137670.0          NaN       NaN  \n",
       "223   134533.0     2583       134533.0          NaN       NaN  \n",
       "254      899.0      841          899.0      71259.0    2963.0  \n",
       "216     1122.0     3048         1122.0          NaN       NaN  \n",
       "35         NaN    79024            NaN     103977.0    1711.0  \n",
       "182      413.0     8086          413.0      99100.0    1560.0  \n",
       "180      531.0     8497          531.0     145019.0     933.0  \n",
       "212    28428.0     3378        28428.0          NaN       NaN  \n",
       "1        569.0   365817            NaN      68234.0    1447.0  "
      ]
     },
     "execution_count": 48,
     "metadata": {},
     "output_type": "execute_result"
    }
   ],
   "source": [
    "top_10_ceo"
   ]
  },
  {
   "cell_type": "markdown",
   "id": "2dc2cd07",
   "metadata": {},
   "source": [
    "### Here's the list of Top 10 Highest paid CEO's name.\n",
    "### And ALEXANDAR KARP who is CEO of PALANTIR TECHNOLOGIES is earning more than 1000 Million Dollar anually which is the highest."
   ]
  },
  {
   "cell_type": "markdown",
   "id": "9f70b9a4",
   "metadata": {},
   "source": [
    "### In Indian rupees Alexandar Karp is earning"
   ]
  },
  {
   "cell_type": "code",
   "execution_count": 49,
   "id": "1dc2283b",
   "metadata": {},
   "outputs": [],
   "source": [
    "Indian_Rs = 1098513297 * 83.12"
   ]
  },
  {
   "cell_type": "code",
   "execution_count": 50,
   "id": "3d48cab5",
   "metadata": {},
   "outputs": [
    {
     "data": {
      "text/plain": [
       "91308425246.64"
      ]
     },
     "execution_count": 50,
     "metadata": {},
     "output_type": "execute_result"
    }
   ],
   "source": [
    "Indian_Rs"
   ]
  },
  {
   "cell_type": "markdown",
   "id": "2126de95",
   "metadata": {},
   "source": [
    "### According to Indian rupees Alexandar Karp is earning more than 9000 thousand crore rupees anually"
   ]
  },
  {
   "cell_type": "code",
   "execution_count": 51,
   "id": "d71bde62",
   "metadata": {},
   "outputs": [],
   "source": [
    "### Let's visualize it."
   ]
  },
  {
   "cell_type": "code",
   "execution_count": 52,
   "id": "7bcd55e3",
   "metadata": {},
   "outputs": [
    {
     "data": {
      "image/png": "[encoded data removed]",
      "text/plain": [
       "<Figure size 800x600 with 1 Axes>"
      ]
     },
     "metadata": {},
     "output_type": "display_data"
    }
   ],
   "source": [
    "# Sort the DataFrame by 'Salary' column in descending order and select the top 10 rows\n",
    "top_10_ceos = df.sort_values(by='ceoPay', ascending=False).head(10)\n",
    "\n",
    "# Extract CEO names and their corresponding salaries\n",
    "ceo_names = top_10_ceos['ceo']\n",
    "salaries = top_10_ceos['ceoPay']\n",
    "\n",
    "# Create a bar chart to visualize the top 10 highest-paid CEOs\n",
    "plt.figure(figsize=(8, 6))  # Adjust figure size as needed\n",
    "plt.barh(ceo_names, salaries, color='skyblue')\n",
    "plt.xlabel('Salary')\n",
    "plt.ylabel('CEO Name')\n",
    "plt.title('Top 10 Highest-Paid CEOs')\n",
    "plt.gca().invert_yaxis()  # Invert the y-axis to display the highest salary at the top\n",
    "plt.show()"
   ]
  },
  {
   "cell_type": "code",
   "execution_count": 53,
   "id": "0a8b20b3",
   "metadata": {},
   "outputs": [],
   "source": [
    "### Here is the list of the highest paid CEO's name and every x-axis number indicate 100 Million dollar."
   ]
  },
  {
   "cell_type": "markdown",
   "id": "df64d22c",
   "metadata": {},
   "source": [
    "### We can say that Alexandar is an outlier. Because he is earning way higher than other CEO's."
   ]
  },
  {
   "cell_type": "markdown",
   "id": "093501b8",
   "metadata": {},
   "source": [
    "## 6) Last 5 paid CEO's"
   ]
  },
  {
   "cell_type": "code",
   "execution_count": 54,
   "id": "a3ce1a13",
   "metadata": {},
   "outputs": [],
   "source": [
    "### Checking the last 5 paid CEO name"
   ]
  },
  {
   "cell_type": "code",
   "execution_count": 55,
   "id": "ad4b7e4b",
   "metadata": {},
   "outputs": [],
   "source": [
    "least_5_paid_ceos = df.sort_values(by='ceoPay', ascending=False).tail(5)"
   ]
  },
  {
   "cell_type": "code",
   "execution_count": 56,
   "id": "3c4d232e",
   "metadata": {},
   "outputs": [
    {
     "data": {
      "text/html": [
       "<div>\n",
       "<style scoped>\n",
       "    .dataframe tbody tr th:only-of-type {\n",
       "        vertical-align: middle;\n",
       "    }\n",
       "\n",
       "    .dataframe tbody tr th {\n",
       "        vertical-align: top;\n",
       "    }\n",
       "\n",
       "    .dataframe thead th {\n",
       "        text-align: right;\n",
       "    }\n",
       "</style>\n",
       "<table border=\"1\" class=\"dataframe\">\n",
       "  <thead>\n",
       "    <tr style=\"text-align: right;\">\n",
       "      <th></th>\n",
       "      <th>ceo</th>\n",
       "      <th>company</th>\n",
       "      <th>stockTicker</th>\n",
       "      <th>ceoPay</th>\n",
       "      <th>changePay</th>\n",
       "      <th>revenue</th>\n",
       "      <th>revenueChange</th>\n",
       "      <th>employeePay</th>\n",
       "      <th>payRatio</th>\n",
       "    </tr>\n",
       "  </thead>\n",
       "  <tbody>\n",
       "    <tr>\n",
       "      <th>106</th>\n",
       "      <td>Steven L. Spinner</td>\n",
       "      <td>United Natural Foods</td>\n",
       "      <td>UNFI</td>\n",
       "      <td>8403365</td>\n",
       "      <td>-5.0</td>\n",
       "      <td>26950</td>\n",
       "      <td>NaN</td>\n",
       "      <td>54215.0</td>\n",
       "      <td>155.0</td>\n",
       "    </tr>\n",
       "    <tr>\n",
       "      <th>89</th>\n",
       "      <td>George L. Holm</td>\n",
       "      <td>Performance Food Group</td>\n",
       "      <td>PFGC</td>\n",
       "      <td>8228550</td>\n",
       "      <td>33.0</td>\n",
       "      <td>30399</td>\n",
       "      <td>NaN</td>\n",
       "      <td>76902.0</td>\n",
       "      <td>107.0</td>\n",
       "    </tr>\n",
       "    <tr>\n",
       "      <th>111</th>\n",
       "      <td>Roger S. Penske</td>\n",
       "      <td>Penske Automotive Group</td>\n",
       "      <td>PAG</td>\n",
       "      <td>6981685</td>\n",
       "      <td>17.0</td>\n",
       "      <td>25555</td>\n",
       "      <td>NaN</td>\n",
       "      <td>52892.0</td>\n",
       "      <td>132.0</td>\n",
       "    </tr>\n",
       "    <tr>\n",
       "      <th>87</th>\n",
       "      <td>Richard T. Hume</td>\n",
       "      <td>TD SYNNEX</td>\n",
       "      <td>SNX</td>\n",
       "      <td>6394362</td>\n",
       "      <td>NaN</td>\n",
       "      <td>31614</td>\n",
       "      <td>NaN</td>\n",
       "      <td>35328.0</td>\n",
       "      <td>181.0</td>\n",
       "    </tr>\n",
       "    <tr>\n",
       "      <th>2</th>\n",
       "      <td>Warren E. Buffett</td>\n",
       "      <td>Berkshire Hathaway</td>\n",
       "      <td>BRK.A</td>\n",
       "      <td>373204</td>\n",
       "      <td>-2.0</td>\n",
       "      <td>276094</td>\n",
       "      <td>NaN</td>\n",
       "      <td>62201.0</td>\n",
       "      <td>6.0</td>\n",
       "    </tr>\n",
       "  </tbody>\n",
       "</table>\n",
       "</div>"
      ],
      "text/plain": [
       "                    ceo                  company stockTicker   ceoPay  \\\n",
       "106   Steven L. Spinner     United Natural Foods        UNFI  8403365   \n",
       "89       George L. Holm   Performance Food Group        PFGC  8228550   \n",
       "111     Roger S. Penske  Penske Automotive Group         PAG  6981685   \n",
       "87      Richard T. Hume                TD SYNNEX         SNX  6394362   \n",
       "2     Warren E. Buffett       Berkshire Hathaway       BRK.A   373204   \n",
       "\n",
       "     changePay  revenue  revenueChange  employeePay  payRatio  \n",
       "106       -5.0    26950            NaN      54215.0     155.0  \n",
       "89        33.0    30399            NaN      76902.0     107.0  \n",
       "111       17.0    25555            NaN      52892.0     132.0  \n",
       "87         NaN    31614            NaN      35328.0     181.0  \n",
       "2         -2.0   276094            NaN      62201.0       6.0  "
      ]
     },
     "execution_count": 56,
     "metadata": {},
     "output_type": "execute_result"
    }
   ],
   "source": [
    "least_5_paid_ceos"
   ]
  },
  {
   "cell_type": "markdown",
   "id": "9441fe81",
   "metadata": {},
   "source": [
    "### Here is the list of last 5 paid CEO's name\n",
    "### WARREN E. BUFFETT is earning $ 373204 Dollar"
   ]
  },
  {
   "cell_type": "code",
   "execution_count": 57,
   "id": "02136620",
   "metadata": {},
   "outputs": [],
   "source": [
    "### In Indian rupees it is around"
   ]
  },
  {
   "cell_type": "code",
   "execution_count": 58,
   "id": "baafdedf",
   "metadata": {},
   "outputs": [],
   "source": [
    "Indian_Rs = 373204 * 83.12"
   ]
  },
  {
   "cell_type": "code",
   "execution_count": 59,
   "id": "46c11b2f",
   "metadata": {},
   "outputs": [
    {
     "data": {
      "text/plain": [
       "31020716.48"
      ]
     },
     "execution_count": 59,
     "metadata": {},
     "output_type": "execute_result"
    }
   ],
   "source": [
    "Indian_Rs"
   ]
  },
  {
   "cell_type": "markdown",
   "id": "2007f0b5",
   "metadata": {},
   "source": [
    "### Warren E. Buffett is earning 31 Crore rupees anually as a CEO"
   ]
  },
  {
   "cell_type": "code",
   "execution_count": 60,
   "id": "f1b1b187",
   "metadata": {},
   "outputs": [],
   "source": [
    "### let's visualize it."
   ]
  },
  {
   "cell_type": "code",
   "execution_count": 61,
   "id": "7ad6572a",
   "metadata": {},
   "outputs": [
    {
     "data": {
      "image/png": "[encoded data removed]",
      "text/plain": [
       "<Figure size 800x600 with 1 Axes>"
      ]
     },
     "metadata": {},
     "output_type": "display_data"
    }
   ],
   "source": [
    "last_5_paid_ceos = df.sort_values(by='ceoPay', ascending=True).head(5)\n",
    "\n",
    "ceo_name = last_5_paid_ceos['ceo']\n",
    "salary = last_5_paid_ceos['ceoPay']\n",
    "\n",
    "plt.figure(figsize = (8, 6))\n",
    "plt.barh(ceo_name, salary, color='skyblue')\n",
    "plt.xlabel('CEO Name')\n",
    "plt.ylabel('Salaries in Million')\n",
    "plt.title('Last 5 Paid CEOs name')\n",
    "plt.show()"
   ]
  },
  {
   "cell_type": "code",
   "execution_count": 62,
   "id": "f6719dfa",
   "metadata": {},
   "outputs": [],
   "source": [
    "### Here is the list of the last paid CEO's name and every x-axis number indicate 1 Million dollar."
   ]
  },
  {
   "cell_type": "markdown",
   "id": "92822123",
   "metadata": {},
   "source": [
    "## 7) Top 10 company by CEO pay"
   ]
  },
  {
   "cell_type": "code",
   "execution_count": 63,
   "id": "1cf9ffce",
   "metadata": {},
   "outputs": [],
   "source": [
    "### Checking top 10 Company name by CEO pay"
   ]
  },
  {
   "cell_type": "code",
   "execution_count": 64,
   "id": "a8406eb8",
   "metadata": {},
   "outputs": [],
   "source": [
    "company_name_by_ceo_pay = df.sort_values(by='ceoPay', ascending=False).head(10)"
   ]
  },
  {
   "cell_type": "code",
   "execution_count": 65,
   "id": "92277d68",
   "metadata": {},
   "outputs": [
    {
     "data": {
      "text/html": [
       "<div>\n",
       "<style scoped>\n",
       "    .dataframe tbody tr th:only-of-type {\n",
       "        vertical-align: middle;\n",
       "    }\n",
       "\n",
       "    .dataframe tbody tr th {\n",
       "        vertical-align: top;\n",
       "    }\n",
       "\n",
       "    .dataframe thead th {\n",
       "        text-align: right;\n",
       "    }\n",
       "</style>\n",
       "<table border=\"1\" class=\"dataframe\">\n",
       "  <thead>\n",
       "    <tr style=\"text-align: right;\">\n",
       "      <th></th>\n",
       "      <th>company</th>\n",
       "      <th>ceo</th>\n",
       "      <th>ceoPay</th>\n",
       "    </tr>\n",
       "  </thead>\n",
       "  <tbody>\n",
       "    <tr>\n",
       "      <th>251</th>\n",
       "      <td>Palantir Technologies</td>\n",
       "      <td>Alexander Karp</td>\n",
       "      <td>1098513297</td>\n",
       "    </tr>\n",
       "    <tr>\n",
       "      <th>219</th>\n",
       "      <td>DoorDash</td>\n",
       "      <td>Tony Xu</td>\n",
       "      <td>413669920</td>\n",
       "    </tr>\n",
       "    <tr>\n",
       "      <th>223</th>\n",
       "      <td>Opendoor Technologies</td>\n",
       "      <td>Eric Wu</td>\n",
       "      <td>370240992</td>\n",
       "    </tr>\n",
       "    <tr>\n",
       "      <th>254</th>\n",
       "      <td>Paycom Software</td>\n",
       "      <td>Chad Richison</td>\n",
       "      <td>211131206</td>\n",
       "    </tr>\n",
       "    <tr>\n",
       "      <th>216</th>\n",
       "      <td>IAC/InterActiveCorp</td>\n",
       "      <td>Joseph Levin</td>\n",
       "      <td>189503132</td>\n",
       "    </tr>\n",
       "    <tr>\n",
       "      <th>35</th>\n",
       "      <td>Intel</td>\n",
       "      <td>Patrick P. Gelsinger</td>\n",
       "      <td>177905400</td>\n",
       "    </tr>\n",
       "    <tr>\n",
       "      <th>182</th>\n",
       "      <td>Activision Blizzard</td>\n",
       "      <td>Robert Kotick</td>\n",
       "      <td>154613318</td>\n",
       "    </tr>\n",
       "    <tr>\n",
       "      <th>180</th>\n",
       "      <td>Regeneron Pharmaceuticals</td>\n",
       "      <td>Leonard S. Schleifer</td>\n",
       "      <td>135350121</td>\n",
       "    </tr>\n",
       "    <tr>\n",
       "      <th>212</th>\n",
       "      <td>Airbnb</td>\n",
       "      <td>Brian Chesky</td>\n",
       "      <td>120099075</td>\n",
       "    </tr>\n",
       "    <tr>\n",
       "      <th>1</th>\n",
       "      <td>Apple</td>\n",
       "      <td>Tim Cook</td>\n",
       "      <td>98734394</td>\n",
       "    </tr>\n",
       "  </tbody>\n",
       "</table>\n",
       "</div>"
      ],
      "text/plain": [
       "                       company                    ceo      ceoPay\n",
       "251      Palantir Technologies         Alexander Karp  1098513297\n",
       "219                   DoorDash                Tony Xu   413669920\n",
       "223      Opendoor Technologies                Eric Wu   370240992\n",
       "254            Paycom Software          Chad Richison   211131206\n",
       "216        IAC/InterActiveCorp           Joseph Levin   189503132\n",
       "35                       Intel   Patrick P. Gelsinger   177905400\n",
       "182        Activision Blizzard          Robert Kotick   154613318\n",
       "180  Regeneron Pharmaceuticals   Leonard S. Schleifer   135350121\n",
       "212                     Airbnb           Brian Chesky   120099075\n",
       "1                        Apple               Tim Cook    98734394"
      ]
     },
     "execution_count": 65,
     "metadata": {},
     "output_type": "execute_result"
    }
   ],
   "source": [
    "company_name_by_ceo_pay[['company', 'ceo', 'ceoPay']]"
   ]
  },
  {
   "cell_type": "markdown",
   "id": "ad213999",
   "metadata": {},
   "source": [
    "### Here is the list of the top 10 company name who's CEO is earning more"
   ]
  },
  {
   "cell_type": "code",
   "execution_count": 66,
   "id": "42600a91",
   "metadata": {},
   "outputs": [],
   "source": [
    "### Let's visualise it"
   ]
  },
  {
   "cell_type": "code",
   "execution_count": 67,
   "id": "6038f498",
   "metadata": {},
   "outputs": [
    {
     "data": {
      "image/png": "[encoded data removed]",
      "text/plain": [
       "<Figure size 800x600 with 1 Axes>"
      ]
     },
     "metadata": {},
     "output_type": "display_data"
    }
   ],
   "source": [
    "company_name_by_ceo_pay = df.sort_values(by='ceoPay', ascending=False).head(10)\n",
    "\n",
    "company_name = company_name_by_ceo_pay['company']\n",
    "salaries = company_name_by_ceo_pay['ceoPay']\n",
    "\n",
    "plt.figure(figsize=(8,6))\n",
    "plt.barh(company_name, salaries, color='skyblue')\n",
    "plt.xlabel('Company Name')\n",
    "plt.ylabel('Salaries')\n",
    "plt.title('Company Name where CEO earning more')\n",
    "plt.show()"
   ]
  },
  {
   "cell_type": "code",
   "execution_count": 68,
   "id": "c251b2d2",
   "metadata": {},
   "outputs": [],
   "source": [
    "### Here is the list of the Company name where CEO's are earning more and every x-axis number indicate 100 Million dollar."
   ]
  },
  {
   "cell_type": "markdown",
   "id": "8276e8e5",
   "metadata": {},
   "source": [
    "## 8) Revenue of a Company vs CEO Pay"
   ]
  },
  {
   "cell_type": "code",
   "execution_count": 69,
   "id": "22deacf2",
   "metadata": {},
   "outputs": [],
   "source": [
    "### Checking difference between Company Revenue and CEO pay"
   ]
  },
  {
   "cell_type": "code",
   "execution_count": 70,
   "id": "4f78371d",
   "metadata": {},
   "outputs": [],
   "source": [
    "company_vs_ceo_pay = (df['revenue'] - df['ceoPay']).mean()"
   ]
  },
  {
   "cell_type": "code",
   "execution_count": 71,
   "id": "0048718f",
   "metadata": {},
   "outputs": [
    {
     "data": {
      "text/plain": [
       "-32457534.321568627"
      ]
     },
     "execution_count": 71,
     "metadata": {},
     "output_type": "execute_result"
    }
   ],
   "source": [
    "company_vs_ceo_pay"
   ]
  },
  {
   "cell_type": "markdown",
   "id": "7f0e4df6",
   "metadata": {},
   "source": [
    "**As we all know that the amount cannot come in negative. So First we have to convert the CEO pay into million because the Company Revenue is in million and the CEO salary is in counts (Dollars) thats why the difference we get is negative.**"
   ]
  },
  {
   "cell_type": "code",
   "execution_count": 72,
   "id": "d72bcf9c",
   "metadata": {},
   "outputs": [],
   "source": [
    "df['ceoPay_Million'] = df['ceoPay'] / 1000000"
   ]
  },
  {
   "cell_type": "code",
   "execution_count": 73,
   "id": "50b8ffa2",
   "metadata": {},
   "outputs": [
    {
     "data": {
      "text/plain": [
       "0        21.198778\n",
       "1        98.734394\n",
       "2         0.373204\n",
       "3        17.872713\n",
       "4        14.873815\n",
       "          ...     \n",
       "250      15.493723\n",
       "251    1098.513297\n",
       "252      15.194726\n",
       "253      15.932680\n",
       "254     211.131206\n",
       "Name: ceoPay_Million, Length: 255, dtype: float64"
      ]
     },
     "execution_count": 73,
     "metadata": {},
     "output_type": "execute_result"
    }
   ],
   "source": [
    "df['ceoPay_Million']"
   ]
  },
  {
   "cell_type": "code",
   "execution_count": 74,
   "id": "37feca25",
   "metadata": {},
   "outputs": [],
   "source": [
    "### Now let's again check the difference between Company Revenue and CEO Pay."
   ]
  },
  {
   "cell_type": "code",
   "execution_count": 75,
   "id": "4b56b6fa",
   "metadata": {},
   "outputs": [],
   "source": [
    "company_vs_ceo_pay = (df['revenue'] - df['ceoPay_Million']).median()"
   ]
  },
  {
   "cell_type": "code",
   "execution_count": 76,
   "id": "bbd945b3",
   "metadata": {},
   "outputs": [
    {
     "data": {
      "text/plain": [
       "22821.544961"
      ]
     },
     "execution_count": 76,
     "metadata": {},
     "output_type": "execute_result"
    }
   ],
   "source": [
    "company_vs_ceo_pay"
   ]
  },
  {
   "cell_type": "markdown",
   "id": "79136aa3",
   "metadata": {},
   "source": [
    "### So the average difference between the Company revenue and the CEO pay is $ 22821.54 Million Dollar"
   ]
  },
  {
   "cell_type": "markdown",
   "id": "e3774fd0",
   "metadata": {},
   "source": [
    "### $ 22821.54 Million Dollar = Rs. 22821540000 which is around 2 Housand 2 Hundred 82 Crore 15 Lakhs 40 Thousand Dollar"
   ]
  },
  {
   "cell_type": "markdown",
   "id": "56cd0507",
   "metadata": {},
   "source": [
    "### In Indian Rs = 18,96,92,64,04,800 which is MORE THAN 1 Lakh 89 Thousand Crores"
   ]
  },
  {
   "cell_type": "code",
   "execution_count": 77,
   "id": "a3194b4b",
   "metadata": {},
   "outputs": [],
   "source": [
    "### Let's visualize it."
   ]
  },
  {
   "cell_type": "code",
   "execution_count": 78,
   "id": "255c421f",
   "metadata": {},
   "outputs": [],
   "source": [
    "### Visualizing the Company Revenue and the CEO salary"
   ]
  },
  {
   "cell_type": "code",
   "execution_count": 79,
   "id": "edd99a5e",
   "metadata": {},
   "outputs": [
    {
     "data": {
      "text/plain": [
       "<Figure size 300x300 with 0 Axes>"
      ]
     },
     "metadata": {},
     "output_type": "display_data"
    },
    {
     "data": {
      "image/png": "[encoded data removed]",
      "text/plain": [
       "<Figure size 640x480 with 1 Axes>"
      ]
     },
     "metadata": {},
     "output_type": "display_data"
    }
   ],
   "source": [
    "plt.figure(figsize=(3,3))\n",
    "df.plot(x ='revenue', y='ceoPay', kind = 'scatter')\n",
    "plt.xlabel('Revenue')\n",
    "plt.ylabel('CEO Pay')\n",
    "plt.title('Revenue of Company vs CEO Pay')\n",
    "plt.show()"
   ]
  },
  {
   "cell_type": "code",
   "execution_count": 80,
   "id": "fdd6541e",
   "metadata": {},
   "outputs": [],
   "source": [
    "### Let's calculate the difference between Comapny Revenue and the CEO pay for each company present in the dataset."
   ]
  },
  {
   "cell_type": "code",
   "execution_count": 81,
   "id": "bb290c47",
   "metadata": {},
   "outputs": [
    {
     "data": {
      "text/html": [
       "<div>\n",
       "<style scoped>\n",
       "    .dataframe tbody tr th:only-of-type {\n",
       "        vertical-align: middle;\n",
       "    }\n",
       "\n",
       "    .dataframe tbody tr th {\n",
       "        vertical-align: top;\n",
       "    }\n",
       "\n",
       "    .dataframe thead th {\n",
       "        text-align: right;\n",
       "    }\n",
       "</style>\n",
       "<table border=\"1\" class=\"dataframe\">\n",
       "  <thead>\n",
       "    <tr style=\"text-align: right;\">\n",
       "      <th></th>\n",
       "      <th>ceo</th>\n",
       "      <th>company</th>\n",
       "      <th>stockTicker</th>\n",
       "      <th>ceoPay</th>\n",
       "      <th>changePay</th>\n",
       "      <th>revenue</th>\n",
       "      <th>revenueChange</th>\n",
       "      <th>employeePay</th>\n",
       "      <th>payRatio</th>\n",
       "      <th>ceoPay_Million</th>\n",
       "    </tr>\n",
       "  </thead>\n",
       "  <tbody>\n",
       "    <tr>\n",
       "      <th>0</th>\n",
       "      <td>C. Douglas McMillon</td>\n",
       "      <td>Walmart</td>\n",
       "      <td>WMT</td>\n",
       "      <td>21198778</td>\n",
       "      <td>1.0</td>\n",
       "      <td>559151</td>\n",
       "      <td>1.0</td>\n",
       "      <td>20942.0</td>\n",
       "      <td>1012.0</td>\n",
       "      <td>21.198778</td>\n",
       "    </tr>\n",
       "    <tr>\n",
       "      <th>1</th>\n",
       "      <td>Tim Cook</td>\n",
       "      <td>Apple</td>\n",
       "      <td>AAPL</td>\n",
       "      <td>98734394</td>\n",
       "      <td>569.0</td>\n",
       "      <td>365817</td>\n",
       "      <td>NaN</td>\n",
       "      <td>68234.0</td>\n",
       "      <td>1447.0</td>\n",
       "      <td>98.734394</td>\n",
       "    </tr>\n",
       "    <tr>\n",
       "      <th>2</th>\n",
       "      <td>Warren E. Buffett</td>\n",
       "      <td>Berkshire Hathaway</td>\n",
       "      <td>BRK.A</td>\n",
       "      <td>373204</td>\n",
       "      <td>-2.0</td>\n",
       "      <td>276094</td>\n",
       "      <td>NaN</td>\n",
       "      <td>62201.0</td>\n",
       "      <td>6.0</td>\n",
       "      <td>0.373204</td>\n",
       "    </tr>\n",
       "    <tr>\n",
       "      <th>3</th>\n",
       "      <td>David S. Wichmann</td>\n",
       "      <td>UnitedHealth</td>\n",
       "      <td>UNH</td>\n",
       "      <td>17872713</td>\n",
       "      <td>-5.0</td>\n",
       "      <td>257141</td>\n",
       "      <td>-5.0</td>\n",
       "      <td>55696.0</td>\n",
       "      <td>321.0</td>\n",
       "      <td>17.872713</td>\n",
       "    </tr>\n",
       "    <tr>\n",
       "      <th>4</th>\n",
       "      <td>Steven H. Collis</td>\n",
       "      <td>AmerisourceBergen</td>\n",
       "      <td>ABC</td>\n",
       "      <td>14873815</td>\n",
       "      <td>4.0</td>\n",
       "      <td>213989</td>\n",
       "      <td>NaN</td>\n",
       "      <td>64951.0</td>\n",
       "      <td>229.0</td>\n",
       "      <td>14.873815</td>\n",
       "    </tr>\n",
       "  </tbody>\n",
       "</table>\n",
       "</div>"
      ],
      "text/plain": [
       "                    ceo             company stockTicker    ceoPay  changePay  \\\n",
       "0   C. Douglas McMillon             Walmart         WMT  21198778        1.0   \n",
       "1              Tim Cook               Apple        AAPL  98734394      569.0   \n",
       "2     Warren E. Buffett  Berkshire Hathaway       BRK.A    373204       -2.0   \n",
       "3     David S. Wichmann        UnitedHealth         UNH  17872713       -5.0   \n",
       "4      Steven H. Collis   AmerisourceBergen         ABC  14873815        4.0   \n",
       "\n",
       "   revenue  revenueChange  employeePay  payRatio  ceoPay_Million  \n",
       "0   559151            1.0      20942.0    1012.0       21.198778  \n",
       "1   365817            NaN      68234.0    1447.0       98.734394  \n",
       "2   276094            NaN      62201.0       6.0        0.373204  \n",
       "3   257141           -5.0      55696.0     321.0       17.872713  \n",
       "4   213989            NaN      64951.0     229.0       14.873815  "
      ]
     },
     "execution_count": 81,
     "metadata": {},
     "output_type": "execute_result"
    }
   ],
   "source": [
    "df.head()"
   ]
  },
  {
   "cell_type": "code",
   "execution_count": 82,
   "id": "2008fed0",
   "metadata": {},
   "outputs": [
    {
     "data": {
      "text/html": [
       "<div>\n",
       "<style scoped>\n",
       "    .dataframe tbody tr th:only-of-type {\n",
       "        vertical-align: middle;\n",
       "    }\n",
       "\n",
       "    .dataframe tbody tr th {\n",
       "        vertical-align: top;\n",
       "    }\n",
       "\n",
       "    .dataframe thead th {\n",
       "        text-align: right;\n",
       "    }\n",
       "</style>\n",
       "<table border=\"1\" class=\"dataframe\">\n",
       "  <thead>\n",
       "    <tr style=\"text-align: right;\">\n",
       "      <th></th>\n",
       "      <th>ceo</th>\n",
       "      <th>company</th>\n",
       "      <th>stockTicker</th>\n",
       "      <th>ceoPay</th>\n",
       "      <th>changePay</th>\n",
       "      <th>revenue</th>\n",
       "      <th>revenueChange</th>\n",
       "      <th>employeePay</th>\n",
       "      <th>payRatio</th>\n",
       "      <th>ceoPay_Million</th>\n",
       "    </tr>\n",
       "  </thead>\n",
       "  <tbody>\n",
       "    <tr>\n",
       "      <th>250</th>\n",
       "      <td>Joe Kiani</td>\n",
       "      <td>Masimo</td>\n",
       "      <td>MASI</td>\n",
       "      <td>15493723</td>\n",
       "      <td>3.0</td>\n",
       "      <td>1144</td>\n",
       "      <td>3.0</td>\n",
       "      <td>102348.0</td>\n",
       "      <td>151.0</td>\n",
       "      <td>15.493723</td>\n",
       "    </tr>\n",
       "    <tr>\n",
       "      <th>251</th>\n",
       "      <td>Alexander Karp</td>\n",
       "      <td>Palantir Technologies</td>\n",
       "      <td>PLTR</td>\n",
       "      <td>1098513297</td>\n",
       "      <td>8979.0</td>\n",
       "      <td>1093</td>\n",
       "      <td>8979.0</td>\n",
       "      <td>NaN</td>\n",
       "      <td>NaN</td>\n",
       "      <td>1098.513297</td>\n",
       "    </tr>\n",
       "    <tr>\n",
       "      <th>252</th>\n",
       "      <td>Marc Holliday</td>\n",
       "      <td>SL Green Realty</td>\n",
       "      <td>SLG</td>\n",
       "      <td>15194726</td>\n",
       "      <td>-28.0</td>\n",
       "      <td>1053</td>\n",
       "      <td>-28.0</td>\n",
       "      <td>69626.0</td>\n",
       "      <td>218.0</td>\n",
       "      <td>15.194726</td>\n",
       "    </tr>\n",
       "    <tr>\n",
       "      <th>253</th>\n",
       "      <td>Nathaniel A. Davis</td>\n",
       "      <td>Stride</td>\n",
       "      <td>LRN</td>\n",
       "      <td>15932680</td>\n",
       "      <td>63.0</td>\n",
       "      <td>1041</td>\n",
       "      <td>63.0</td>\n",
       "      <td>51502.0</td>\n",
       "      <td>309.0</td>\n",
       "      <td>15.932680</td>\n",
       "    </tr>\n",
       "    <tr>\n",
       "      <th>254</th>\n",
       "      <td>Chad Richison</td>\n",
       "      <td>Paycom Software</td>\n",
       "      <td>PAYC</td>\n",
       "      <td>211131206</td>\n",
       "      <td>899.0</td>\n",
       "      <td>841</td>\n",
       "      <td>899.0</td>\n",
       "      <td>71259.0</td>\n",
       "      <td>2963.0</td>\n",
       "      <td>211.131206</td>\n",
       "    </tr>\n",
       "  </tbody>\n",
       "</table>\n",
       "</div>"
      ],
      "text/plain": [
       "                     ceo                company stockTicker      ceoPay  \\\n",
       "250            Joe Kiani                 Masimo        MASI    15493723   \n",
       "251       Alexander Karp  Palantir Technologies        PLTR  1098513297   \n",
       "252        Marc Holliday        SL Green Realty         SLG    15194726   \n",
       "253   Nathaniel A. Davis                 Stride         LRN    15932680   \n",
       "254        Chad Richison        Paycom Software        PAYC   211131206   \n",
       "\n",
       "     changePay  revenue  revenueChange  employeePay  payRatio  ceoPay_Million  \n",
       "250        3.0     1144            3.0     102348.0     151.0       15.493723  \n",
       "251     8979.0     1093         8979.0          NaN       NaN     1098.513297  \n",
       "252      -28.0     1053          -28.0      69626.0     218.0       15.194726  \n",
       "253       63.0     1041           63.0      51502.0     309.0       15.932680  \n",
       "254      899.0      841          899.0      71259.0    2963.0      211.131206  "
      ]
     },
     "execution_count": 82,
     "metadata": {},
     "output_type": "execute_result"
    }
   ],
   "source": [
    "df.tail(5)"
   ]
  },
  {
   "cell_type": "code",
   "execution_count": 83,
   "id": "f43f2c08",
   "metadata": {},
   "outputs": [],
   "source": [
    "### Now we have merge the ceoPay_Billion column with df data frame"
   ]
  },
  {
   "cell_type": "code",
   "execution_count": 84,
   "id": "7d10e014",
   "metadata": {},
   "outputs": [],
   "source": [
    "diff_revenue_salary = df['revenue'] - df['ceoPay']"
   ]
  },
  {
   "cell_type": "code",
   "execution_count": 85,
   "id": "de067667",
   "metadata": {},
   "outputs": [
    {
     "data": {
      "text/plain": [
       "0       -20639627\n",
       "1       -98368577\n",
       "2          -97110\n",
       "3       -17615572\n",
       "4       -14659826\n",
       "          ...    \n",
       "250     -15492579\n",
       "251   -1098512204\n",
       "252     -15193673\n",
       "253     -15931639\n",
       "254    -211130365\n",
       "Length: 255, dtype: int64"
      ]
     },
     "execution_count": 85,
     "metadata": {},
     "output_type": "execute_result"
    }
   ],
   "source": [
    "diff_revenue_salary"
   ]
  },
  {
   "cell_type": "markdown",
   "id": "021dfb9c",
   "metadata": {},
   "source": [
    "**As we can see in the data that still we are getting few negative ceoPay values it means that not all CEO are earning in millions, but few of them are also earning in thousands or hundred as well.**"
   ]
  },
  {
   "cell_type": "markdown",
   "id": "418533ee",
   "metadata": {},
   "source": [
    "**So we can't calculate the acutual figure now, it will take more time to do so, because we have to individually check that which CEO is earning in Millions, thousands or Hundreds** "
   ]
  },
  {
   "cell_type": "code",
   "execution_count": 86,
   "id": "b25d3ad4",
   "metadata": {},
   "outputs": [],
   "source": [
    "### Let's check the Company Name who is earning the highest revenue"
   ]
  },
  {
   "cell_type": "code",
   "execution_count": 87,
   "id": "78afaf8e",
   "metadata": {},
   "outputs": [],
   "source": [
    "highest_revenue = df.sort_values(by='revenue', ascending=False).head(5)"
   ]
  },
  {
   "cell_type": "code",
   "execution_count": 88,
   "id": "2f991d21",
   "metadata": {},
   "outputs": [
    {
     "data": {
      "text/html": [
       "<div>\n",
       "<style scoped>\n",
       "    .dataframe tbody tr th:only-of-type {\n",
       "        vertical-align: middle;\n",
       "    }\n",
       "\n",
       "    .dataframe tbody tr th {\n",
       "        vertical-align: top;\n",
       "    }\n",
       "\n",
       "    .dataframe thead th {\n",
       "        text-align: right;\n",
       "    }\n",
       "</style>\n",
       "<table border=\"1\" class=\"dataframe\">\n",
       "  <thead>\n",
       "    <tr style=\"text-align: right;\">\n",
       "      <th></th>\n",
       "      <th>ceo</th>\n",
       "      <th>company</th>\n",
       "      <th>stockTicker</th>\n",
       "      <th>ceoPay</th>\n",
       "      <th>changePay</th>\n",
       "      <th>revenue</th>\n",
       "      <th>revenueChange</th>\n",
       "      <th>employeePay</th>\n",
       "      <th>payRatio</th>\n",
       "      <th>ceoPay_Million</th>\n",
       "    </tr>\n",
       "  </thead>\n",
       "  <tbody>\n",
       "    <tr>\n",
       "      <th>0</th>\n",
       "      <td>C. Douglas McMillon</td>\n",
       "      <td>Walmart</td>\n",
       "      <td>WMT</td>\n",
       "      <td>21198778</td>\n",
       "      <td>1.0</td>\n",
       "      <td>559151</td>\n",
       "      <td>1.0</td>\n",
       "      <td>20942.0</td>\n",
       "      <td>1012.0</td>\n",
       "      <td>21.198778</td>\n",
       "    </tr>\n",
       "    <tr>\n",
       "      <th>1</th>\n",
       "      <td>Tim Cook</td>\n",
       "      <td>Apple</td>\n",
       "      <td>AAPL</td>\n",
       "      <td>98734394</td>\n",
       "      <td>569.0</td>\n",
       "      <td>365817</td>\n",
       "      <td>NaN</td>\n",
       "      <td>68234.0</td>\n",
       "      <td>1447.0</td>\n",
       "      <td>98.734394</td>\n",
       "    </tr>\n",
       "    <tr>\n",
       "      <th>2</th>\n",
       "      <td>Warren E. Buffett</td>\n",
       "      <td>Berkshire Hathaway</td>\n",
       "      <td>BRK.A</td>\n",
       "      <td>373204</td>\n",
       "      <td>-2.0</td>\n",
       "      <td>276094</td>\n",
       "      <td>NaN</td>\n",
       "      <td>62201.0</td>\n",
       "      <td>6.0</td>\n",
       "      <td>0.373204</td>\n",
       "    </tr>\n",
       "    <tr>\n",
       "      <th>3</th>\n",
       "      <td>David S. Wichmann</td>\n",
       "      <td>UnitedHealth</td>\n",
       "      <td>UNH</td>\n",
       "      <td>17872713</td>\n",
       "      <td>-5.0</td>\n",
       "      <td>257141</td>\n",
       "      <td>-5.0</td>\n",
       "      <td>55696.0</td>\n",
       "      <td>321.0</td>\n",
       "      <td>17.872713</td>\n",
       "    </tr>\n",
       "    <tr>\n",
       "      <th>4</th>\n",
       "      <td>Steven H. Collis</td>\n",
       "      <td>AmerisourceBergen</td>\n",
       "      <td>ABC</td>\n",
       "      <td>14873815</td>\n",
       "      <td>4.0</td>\n",
       "      <td>213989</td>\n",
       "      <td>NaN</td>\n",
       "      <td>64951.0</td>\n",
       "      <td>229.0</td>\n",
       "      <td>14.873815</td>\n",
       "    </tr>\n",
       "  </tbody>\n",
       "</table>\n",
       "</div>"
      ],
      "text/plain": [
       "                    ceo             company stockTicker    ceoPay  changePay  \\\n",
       "0   C. Douglas McMillon             Walmart         WMT  21198778        1.0   \n",
       "1              Tim Cook               Apple        AAPL  98734394      569.0   \n",
       "2     Warren E. Buffett  Berkshire Hathaway       BRK.A    373204       -2.0   \n",
       "3     David S. Wichmann        UnitedHealth         UNH  17872713       -5.0   \n",
       "4      Steven H. Collis   AmerisourceBergen         ABC  14873815        4.0   \n",
       "\n",
       "   revenue  revenueChange  employeePay  payRatio  ceoPay_Million  \n",
       "0   559151            1.0      20942.0    1012.0       21.198778  \n",
       "1   365817            NaN      68234.0    1447.0       98.734394  \n",
       "2   276094            NaN      62201.0       6.0        0.373204  \n",
       "3   257141           -5.0      55696.0     321.0       17.872713  \n",
       "4   213989            NaN      64951.0     229.0       14.873815  "
      ]
     },
     "execution_count": 88,
     "metadata": {},
     "output_type": "execute_result"
    }
   ],
   "source": [
    "highest_revenue"
   ]
  },
  {
   "cell_type": "markdown",
   "id": "b29a5dd7",
   "metadata": {},
   "source": [
    "## 9) Will company growth impact on the CEO and the Employee salary. If yes then how much?"
   ]
  },
  {
   "cell_type": "code",
   "execution_count": 89,
   "id": "4a4f3359",
   "metadata": {},
   "outputs": [
    {
     "data": {
      "text/html": [
       "<div>\n",
       "<style scoped>\n",
       "    .dataframe tbody tr th:only-of-type {\n",
       "        vertical-align: middle;\n",
       "    }\n",
       "\n",
       "    .dataframe tbody tr th {\n",
       "        vertical-align: top;\n",
       "    }\n",
       "\n",
       "    .dataframe thead th {\n",
       "        text-align: right;\n",
       "    }\n",
       "</style>\n",
       "<table border=\"1\" class=\"dataframe\">\n",
       "  <thead>\n",
       "    <tr style=\"text-align: right;\">\n",
       "      <th></th>\n",
       "      <th>ceo</th>\n",
       "      <th>company</th>\n",
       "      <th>stockTicker</th>\n",
       "      <th>ceoPay</th>\n",
       "      <th>changePay</th>\n",
       "      <th>revenue</th>\n",
       "      <th>revenueChange</th>\n",
       "      <th>employeePay</th>\n",
       "      <th>payRatio</th>\n",
       "      <th>ceoPay_Million</th>\n",
       "    </tr>\n",
       "  </thead>\n",
       "  <tbody>\n",
       "    <tr>\n",
       "      <th>0</th>\n",
       "      <td>C. Douglas McMillon</td>\n",
       "      <td>Walmart</td>\n",
       "      <td>WMT</td>\n",
       "      <td>21198778</td>\n",
       "      <td>1.0</td>\n",
       "      <td>559151</td>\n",
       "      <td>1.0</td>\n",
       "      <td>20942.0</td>\n",
       "      <td>1012.0</td>\n",
       "      <td>21.198778</td>\n",
       "    </tr>\n",
       "    <tr>\n",
       "      <th>1</th>\n",
       "      <td>Tim Cook</td>\n",
       "      <td>Apple</td>\n",
       "      <td>AAPL</td>\n",
       "      <td>98734394</td>\n",
       "      <td>569.0</td>\n",
       "      <td>365817</td>\n",
       "      <td>NaN</td>\n",
       "      <td>68234.0</td>\n",
       "      <td>1447.0</td>\n",
       "      <td>98.734394</td>\n",
       "    </tr>\n",
       "    <tr>\n",
       "      <th>2</th>\n",
       "      <td>Warren E. Buffett</td>\n",
       "      <td>Berkshire Hathaway</td>\n",
       "      <td>BRK.A</td>\n",
       "      <td>373204</td>\n",
       "      <td>-2.0</td>\n",
       "      <td>276094</td>\n",
       "      <td>NaN</td>\n",
       "      <td>62201.0</td>\n",
       "      <td>6.0</td>\n",
       "      <td>0.373204</td>\n",
       "    </tr>\n",
       "    <tr>\n",
       "      <th>3</th>\n",
       "      <td>David S. Wichmann</td>\n",
       "      <td>UnitedHealth</td>\n",
       "      <td>UNH</td>\n",
       "      <td>17872713</td>\n",
       "      <td>-5.0</td>\n",
       "      <td>257141</td>\n",
       "      <td>-5.0</td>\n",
       "      <td>55696.0</td>\n",
       "      <td>321.0</td>\n",
       "      <td>17.872713</td>\n",
       "    </tr>\n",
       "    <tr>\n",
       "      <th>4</th>\n",
       "      <td>Steven H. Collis</td>\n",
       "      <td>AmerisourceBergen</td>\n",
       "      <td>ABC</td>\n",
       "      <td>14873815</td>\n",
       "      <td>4.0</td>\n",
       "      <td>213989</td>\n",
       "      <td>NaN</td>\n",
       "      <td>64951.0</td>\n",
       "      <td>229.0</td>\n",
       "      <td>14.873815</td>\n",
       "    </tr>\n",
       "    <tr>\n",
       "      <th>...</th>\n",
       "      <td>...</td>\n",
       "      <td>...</td>\n",
       "      <td>...</td>\n",
       "      <td>...</td>\n",
       "      <td>...</td>\n",
       "      <td>...</td>\n",
       "      <td>...</td>\n",
       "      <td>...</td>\n",
       "      <td>...</td>\n",
       "      <td>...</td>\n",
       "    </tr>\n",
       "    <tr>\n",
       "      <th>250</th>\n",
       "      <td>Joe Kiani</td>\n",
       "      <td>Masimo</td>\n",
       "      <td>MASI</td>\n",
       "      <td>15493723</td>\n",
       "      <td>3.0</td>\n",
       "      <td>1144</td>\n",
       "      <td>3.0</td>\n",
       "      <td>102348.0</td>\n",
       "      <td>151.0</td>\n",
       "      <td>15.493723</td>\n",
       "    </tr>\n",
       "    <tr>\n",
       "      <th>251</th>\n",
       "      <td>Alexander Karp</td>\n",
       "      <td>Palantir Technologies</td>\n",
       "      <td>PLTR</td>\n",
       "      <td>1098513297</td>\n",
       "      <td>8979.0</td>\n",
       "      <td>1093</td>\n",
       "      <td>8979.0</td>\n",
       "      <td>NaN</td>\n",
       "      <td>NaN</td>\n",
       "      <td>1098.513297</td>\n",
       "    </tr>\n",
       "    <tr>\n",
       "      <th>252</th>\n",
       "      <td>Marc Holliday</td>\n",
       "      <td>SL Green Realty</td>\n",
       "      <td>SLG</td>\n",
       "      <td>15194726</td>\n",
       "      <td>-28.0</td>\n",
       "      <td>1053</td>\n",
       "      <td>-28.0</td>\n",
       "      <td>69626.0</td>\n",
       "      <td>218.0</td>\n",
       "      <td>15.194726</td>\n",
       "    </tr>\n",
       "    <tr>\n",
       "      <th>253</th>\n",
       "      <td>Nathaniel A. Davis</td>\n",
       "      <td>Stride</td>\n",
       "      <td>LRN</td>\n",
       "      <td>15932680</td>\n",
       "      <td>63.0</td>\n",
       "      <td>1041</td>\n",
       "      <td>63.0</td>\n",
       "      <td>51502.0</td>\n",
       "      <td>309.0</td>\n",
       "      <td>15.932680</td>\n",
       "    </tr>\n",
       "    <tr>\n",
       "      <th>254</th>\n",
       "      <td>Chad Richison</td>\n",
       "      <td>Paycom Software</td>\n",
       "      <td>PAYC</td>\n",
       "      <td>211131206</td>\n",
       "      <td>899.0</td>\n",
       "      <td>841</td>\n",
       "      <td>899.0</td>\n",
       "      <td>71259.0</td>\n",
       "      <td>2963.0</td>\n",
       "      <td>211.131206</td>\n",
       "    </tr>\n",
       "  </tbody>\n",
       "</table>\n",
       "<p>255 rows × 10 columns</p>\n",
       "</div>"
      ],
      "text/plain": [
       "                      ceo                company stockTicker      ceoPay  \\\n",
       "0     C. Douglas McMillon                Walmart         WMT    21198778   \n",
       "1                Tim Cook                  Apple        AAPL    98734394   \n",
       "2       Warren E. Buffett     Berkshire Hathaway       BRK.A      373204   \n",
       "3       David S. Wichmann           UnitedHealth         UNH    17872713   \n",
       "4        Steven H. Collis      AmerisourceBergen         ABC    14873815   \n",
       "..                    ...                    ...         ...         ...   \n",
       "250             Joe Kiani                 Masimo        MASI    15493723   \n",
       "251        Alexander Karp  Palantir Technologies        PLTR  1098513297   \n",
       "252         Marc Holliday        SL Green Realty         SLG    15194726   \n",
       "253    Nathaniel A. Davis                 Stride         LRN    15932680   \n",
       "254         Chad Richison        Paycom Software        PAYC   211131206   \n",
       "\n",
       "     changePay  revenue  revenueChange  employeePay  payRatio  ceoPay_Million  \n",
       "0          1.0   559151            1.0      20942.0    1012.0       21.198778  \n",
       "1        569.0   365817            NaN      68234.0    1447.0       98.734394  \n",
       "2         -2.0   276094            NaN      62201.0       6.0        0.373204  \n",
       "3         -5.0   257141           -5.0      55696.0     321.0       17.872713  \n",
       "4          4.0   213989            NaN      64951.0     229.0       14.873815  \n",
       "..         ...      ...            ...          ...       ...             ...  \n",
       "250        3.0     1144            3.0     102348.0     151.0       15.493723  \n",
       "251     8979.0     1093         8979.0          NaN       NaN     1098.513297  \n",
       "252      -28.0     1053          -28.0      69626.0     218.0       15.194726  \n",
       "253       63.0     1041           63.0      51502.0     309.0       15.932680  \n",
       "254      899.0      841          899.0      71259.0    2963.0      211.131206  \n",
       "\n",
       "[255 rows x 10 columns]"
      ]
     },
     "execution_count": 89,
     "metadata": {},
     "output_type": "execute_result"
    }
   ],
   "source": [
    "df"
   ]
  },
  {
   "cell_type": "markdown",
   "id": "267b452d",
   "metadata": {},
   "source": [
    "### We can see in the dataset as the revenueChange (change in company revenue) is changing the changePay (change in CEO Pay) is also changing with the same number.\n",
    "### By watching this we can say that as the Company Revenue changes CEO Pay is also changing."
   ]
  },
  {
   "cell_type": "markdown",
   "id": "895c869d",
   "metadata": {},
   "source": [
    "### And we can say that Alexandar Karp is an outlier because his pay out is way higher than others."
   ]
  },
  {
   "cell_type": "code",
   "execution_count": 90,
   "id": "6b1e1829",
   "metadata": {},
   "outputs": [],
   "source": [
    "### Let's try visualize it."
   ]
  },
  {
   "cell_type": "code",
   "execution_count": 91,
   "id": "2d4f1659",
   "metadata": {},
   "outputs": [
    {
     "data": {
      "image/png": "[encoded data removed]",
      "text/plain": [
       "<Figure size 1200x600 with 1 Axes>"
      ]
     },
     "metadata": {},
     "output_type": "display_data"
    }
   ],
   "source": [
    "# Sort the DataFrame by 'changePay' column in descending order and select the top 15 rows\n",
    "top_15_data = df.sort_values(by='changePay', ascending=False).head(15)\n",
    "\n",
    "# Extract the 'Company Name', 'changePay', and 'revenueChange' columns\n",
    "company_names = top_15_data['company']\n",
    "change_pay_values = top_15_data['changePay']\n",
    "revenue_change_values = top_15_data['revenueChange']\n",
    "\n",
    "# Set the figure size\n",
    "plt.figure(figsize=(12, 6))\n",
    "\n",
    "# Create an array for the x-axis positions of bars\n",
    "x = np.arange(len(company_names))\n",
    "\n",
    "# Define the width of the bars\n",
    "bar_width = 0.35\n",
    "\n",
    "# Create grouped bar chart\n",
    "plt.bar(x - bar_width/2, change_pay_values, label='changePay', alpha=0.7, color='b', width=bar_width)\n",
    "plt.bar(x + bar_width/2, revenue_change_values, label='revenueChange', alpha=0.7, color='g', width=bar_width)\n",
    "\n",
    "# Configure the plot\n",
    "plt.xlabel('Company Name')\n",
    "plt.ylabel('Values')\n",
    "plt.title('Top 15 Companies: changePay and revenueChange')\n",
    "plt.xticks(x, company_names, rotation=90)  # Set x-axis labels and rotate for readability\n",
    "plt.legend()\n",
    "\n",
    "# Show the plot\n",
    "plt.tight_layout()\n",
    "plt.show()\n"
   ]
  },
  {
   "cell_type": "markdown",
   "id": "62b753fe",
   "metadata": {},
   "source": [
    "### By looking at the data we can clearly say that the CEO's salary is changing with an exact number as the COMPANY'S REVENUE changes. This could also mean that they have also bought shares of the company which rise and fall with changes in the COMPANY'S REVENUE."
   ]
  },
  {
   "cell_type": "markdown",
   "id": "5efd8f21",
   "metadata": {},
   "source": [
    "### But for a normal EMPLOYEE, we can't say that with the increase in COMPANY'S REVENUE their SALARY is also increasing. And the reason can be that they have a fixed income or they do not have COMPANY shares."
   ]
  },
  {
   "cell_type": "code",
   "execution_count": null,
   "id": "f8ef1c43",
   "metadata": {},
   "outputs": [],
   "source": []
  },
  {
   "cell_type": "markdown",
   "id": "1d0aac2b",
   "metadata": {},
   "source": [
    "## 10) Factors affecting CEO Pay?"
   ]
  },
  {
   "cell_type": "code",
   "execution_count": 92,
   "id": "d4d73f5e",
   "metadata": {},
   "outputs": [],
   "source": [
    "### As we have discuss prior the factor afecting CEO Pay is the Company Revenue only."
   ]
  },
  {
   "cell_type": "code",
   "execution_count": null,
   "id": "d796e2fc",
   "metadata": {},
   "outputs": [],
   "source": []
  }
 ],
 "metadata": {
  "kernelspec": {
   "display_name": "Python 3 (ipykernel)",
   "language": "python",
   "name": "python3"
  },
  "language_info": {
   "codemirror_mode": {
    "name": "ipython",
    "version": 3
   },
   "file_extension": ".py",
   "mimetype": "text/x-python",
   "name": "python",
   "nbconvert_exporter": "python",
   "pygments_lexer": "ipython3",
   "version": "3.11.4"
  }
 },
 "nbformat": 4,
 "nbformat_minor": 5
}
